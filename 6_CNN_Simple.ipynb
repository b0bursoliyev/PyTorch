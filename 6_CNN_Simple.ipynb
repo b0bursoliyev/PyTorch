{
 "cells": [
  {
   "cell_type": "code",
   "execution_count": 1,
   "metadata": {},
   "outputs": [],
   "source": [
    "from torch import nn,optim,cuda,from_numpy\n",
    "from torch.utils import data\n",
    "from torchvision import datasets,transforms\n",
    "import cv2\n",
    "import numpy as np\n",
    "import matplotlib.pyplot as plt\n",
    "import torch.nn.functional as F"
   ]
  },
  {
   "cell_type": "code",
   "execution_count": 2,
   "metadata": {},
   "outputs": [
    {
     "name": "stdout",
     "output_type": "stream",
     "text": [
      "cuda:0\n"
     ]
    }
   ],
   "source": [
    "device = ('cuda:0' if cuda.is_available() else 'cpu')\n",
    "print(device)"
   ]
  },
  {
   "cell_type": "code",
   "execution_count": 4,
   "metadata": {},
   "outputs": [
    {
     "name": "stderr",
     "output_type": "stream",
     "text": [
      "C:\\Users\\Lucas\\AppData\\Local\\Temp\\ipykernel_13664\\1399633187.py:23: UserWarning: Implicit dimension choice for log_softmax has been deprecated. Change the call to include dim=X as an argument.\n",
      "  return  F.log_softmax(x)\n"
     ]
    },
    {
     "name": "stdout",
     "output_type": "stream",
     "text": [
      "Epoch = 0 | Batch = 0 | 0/60000 | Loss = 2.306569814682007 | \n",
      "Epoch = 0 | Batch = 100 | 6400/60000 | Loss = 0.27314871549606323 | \n",
      "Epoch = 0 | Batch = 200 | 12800/60000 | Loss = 0.3136037290096283 | \n",
      "Epoch = 0 | Batch = 300 | 19200/60000 | Loss = 0.3299945294857025 | \n",
      "Epoch = 0 | Batch = 400 | 25600/60000 | Loss = 0.21242989599704742 | \n",
      "Epoch = 0 | Batch = 500 | 32000/60000 | Loss = 0.1241166815161705 | \n",
      "Epoch = 0 | Batch = 600 | 38400/60000 | Loss = 0.03584809601306915 | \n",
      "Epoch = 0 | Batch = 700 | 44800/60000 | Loss = 0.04095550626516342 | \n",
      "Epoch = 0 | Batch = 800 | 51200/60000 | Loss = 0.17625032365322113 | \n",
      "Epoch = 0 | Batch = 900 | 57600/60000 | Loss = 0.08398830145597458 | \n",
      "Aniqlik = 0.972000002861023 | Foizda 97.19999694824219%\n",
      "Epoch = 1 | Batch = 0 | 0/60000 | Loss = 0.2106156349182129 | \n",
      "Epoch = 1 | Batch = 100 | 6400/60000 | Loss = 0.025193586945533752 | \n",
      "Epoch = 1 | Batch = 200 | 12800/60000 | Loss = 0.11061839014291763 | \n",
      "Epoch = 1 | Batch = 300 | 19200/60000 | Loss = 0.08527572453022003 | \n",
      "Epoch = 1 | Batch = 400 | 25600/60000 | Loss = 0.021847078576683998 | \n",
      "Epoch = 1 | Batch = 500 | 32000/60000 | Loss = 0.04323221743106842 | \n",
      "Epoch = 1 | Batch = 600 | 38400/60000 | Loss = 0.051421646028757095 | \n",
      "Epoch = 1 | Batch = 700 | 44800/60000 | Loss = 0.034637872129678726 | \n",
      "Epoch = 1 | Batch = 800 | 51200/60000 | Loss = 0.13353808224201202 | \n",
      "Epoch = 1 | Batch = 900 | 57600/60000 | Loss = 0.12190158665180206 | \n",
      "Aniqlik = 0.9797999858856201 | Foizda 97.97999572753906%\n",
      "Epoch = 2 | Batch = 0 | 0/60000 | Loss = 0.021112848073244095 | \n",
      "Epoch = 2 | Batch = 100 | 6400/60000 | Loss = 0.08287514746189117 | \n",
      "Epoch = 2 | Batch = 200 | 12800/60000 | Loss = 0.01885819621384144 | \n",
      "Epoch = 2 | Batch = 300 | 19200/60000 | Loss = 0.0684504434466362 | \n",
      "Epoch = 2 | Batch = 400 | 25600/60000 | Loss = 0.04927065223455429 | \n",
      "Epoch = 2 | Batch = 500 | 32000/60000 | Loss = 0.10599642992019653 | \n",
      "Epoch = 2 | Batch = 600 | 38400/60000 | Loss = 0.06943114101886749 | \n",
      "Epoch = 2 | Batch = 700 | 44800/60000 | Loss = 0.009552338160574436 | \n",
      "Epoch = 2 | Batch = 800 | 51200/60000 | Loss = 0.013546616770327091 | \n",
      "Epoch = 2 | Batch = 900 | 57600/60000 | Loss = 0.02928353287279606 | \n",
      "Aniqlik = 0.9845999479293823 | Foizda 98.45999908447266%\n",
      "Epoch = 3 | Batch = 0 | 0/60000 | Loss = 0.03199274465441704 | \n",
      "Epoch = 3 | Batch = 100 | 6400/60000 | Loss = 0.08177924901247025 | \n",
      "Epoch = 3 | Batch = 200 | 12800/60000 | Loss = 0.013791226781904697 | \n",
      "Epoch = 3 | Batch = 300 | 19200/60000 | Loss = 0.11053748428821564 | \n",
      "Epoch = 3 | Batch = 400 | 25600/60000 | Loss = 0.015506841242313385 | \n",
      "Epoch = 3 | Batch = 500 | 32000/60000 | Loss = 0.1707603931427002 | \n",
      "Epoch = 3 | Batch = 600 | 38400/60000 | Loss = 0.062106575816869736 | \n",
      "Epoch = 3 | Batch = 700 | 44800/60000 | Loss = 0.09347841888666153 | \n",
      "Epoch = 3 | Batch = 800 | 51200/60000 | Loss = 0.08248284459114075 | \n",
      "Epoch = 3 | Batch = 900 | 57600/60000 | Loss = 0.14405980706214905 | \n",
      "Aniqlik = 0.9863999485969543 | Foizda 98.63999938964844%\n",
      "Epoch = 4 | Batch = 0 | 0/60000 | Loss = 0.035010240972042084 | \n",
      "Epoch = 4 | Batch = 100 | 6400/60000 | Loss = 0.035897012799978256 | \n",
      "Epoch = 4 | Batch = 200 | 12800/60000 | Loss = 0.09424564987421036 | \n",
      "Epoch = 4 | Batch = 300 | 19200/60000 | Loss = 0.03030737116932869 | \n",
      "Epoch = 4 | Batch = 400 | 25600/60000 | Loss = 0.07133045792579651 | \n",
      "Epoch = 4 | Batch = 500 | 32000/60000 | Loss = 0.13004201650619507 | \n",
      "Epoch = 4 | Batch = 600 | 38400/60000 | Loss = 0.10504557937383652 | \n",
      "Epoch = 4 | Batch = 700 | 44800/60000 | Loss = 0.0038654827512800694 | \n",
      "Epoch = 4 | Batch = 800 | 51200/60000 | Loss = 0.05734328553080559 | \n",
      "Epoch = 4 | Batch = 900 | 57600/60000 | Loss = 0.11439569294452667 | \n",
      "Aniqlik = 0.9876999855041504 | Foizda 98.7699966430664%\n",
      "Epoch = 5 | Batch = 0 | 0/60000 | Loss = 0.029224049299955368 | \n",
      "Epoch = 5 | Batch = 100 | 6400/60000 | Loss = 0.014172432012856007 | \n",
      "Epoch = 5 | Batch = 200 | 12800/60000 | Loss = 0.004955587908625603 | \n",
      "Epoch = 5 | Batch = 300 | 19200/60000 | Loss = 0.050637707114219666 | \n",
      "Epoch = 5 | Batch = 400 | 25600/60000 | Loss = 0.049271851778030396 | \n",
      "Epoch = 5 | Batch = 500 | 32000/60000 | Loss = 0.012719702906906605 | \n",
      "Epoch = 5 | Batch = 600 | 38400/60000 | Loss = 0.07224347442388535 | \n",
      "Epoch = 5 | Batch = 700 | 44800/60000 | Loss = 0.023262707516551018 | \n",
      "Epoch = 5 | Batch = 800 | 51200/60000 | Loss = 0.0030788301955908537 | \n",
      "Epoch = 5 | Batch = 900 | 57600/60000 | Loss = 0.010787212289869785 | \n",
      "Aniqlik = 0.9887999892234802 | Foizda 98.87999725341797%\n",
      "Epoch = 6 | Batch = 0 | 0/60000 | Loss = 0.01555723324418068 | \n",
      "Epoch = 6 | Batch = 100 | 6400/60000 | Loss = 0.019873052835464478 | \n",
      "Epoch = 6 | Batch = 200 | 12800/60000 | Loss = 0.037285786122083664 | \n",
      "Epoch = 6 | Batch = 300 | 19200/60000 | Loss = 0.004263781011104584 | \n",
      "Epoch = 6 | Batch = 400 | 25600/60000 | Loss = 0.02132447436451912 | \n",
      "Epoch = 6 | Batch = 500 | 32000/60000 | Loss = 0.020459068939089775 | \n",
      "Epoch = 6 | Batch = 600 | 38400/60000 | Loss = 0.0650840625166893 | \n",
      "Epoch = 6 | Batch = 700 | 44800/60000 | Loss = 0.059898171573877335 | \n",
      "Epoch = 6 | Batch = 800 | 51200/60000 | Loss = 0.03430238738656044 | \n",
      "Epoch = 6 | Batch = 900 | 57600/60000 | Loss = 0.02704334445297718 | \n",
      "Aniqlik = 0.9893999695777893 | Foizda 98.93999481201172%\n",
      "Epoch = 7 | Batch = 0 | 0/60000 | Loss = 0.01627405732870102 | \n",
      "Epoch = 7 | Batch = 100 | 6400/60000 | Loss = 0.007141581736505032 | \n",
      "Epoch = 7 | Batch = 200 | 12800/60000 | Loss = 0.029285920783877373 | \n",
      "Epoch = 7 | Batch = 300 | 19200/60000 | Loss = 0.046573881059885025 | \n",
      "Epoch = 7 | Batch = 400 | 25600/60000 | Loss = 0.008974623866379261 | \n",
      "Epoch = 7 | Batch = 500 | 32000/60000 | Loss = 0.06602652370929718 | \n",
      "Epoch = 7 | Batch = 600 | 38400/60000 | Loss = 0.0059241424314677715 | \n",
      "Epoch = 7 | Batch = 700 | 44800/60000 | Loss = 0.01474703662097454 | \n",
      "Epoch = 7 | Batch = 800 | 51200/60000 | Loss = 0.004736877512186766 | \n",
      "Epoch = 7 | Batch = 900 | 57600/60000 | Loss = 0.0067103044129908085 | \n",
      "Aniqlik = 0.9894999861717224 | Foizda 98.94999694824219%\n",
      "Epoch = 8 | Batch = 0 | 0/60000 | Loss = 0.020008938387036324 | \n",
      "Epoch = 8 | Batch = 100 | 6400/60000 | Loss = 0.03732399642467499 | \n",
      "Epoch = 8 | Batch = 200 | 12800/60000 | Loss = 0.0007080833311192691 | \n",
      "Epoch = 8 | Batch = 300 | 19200/60000 | Loss = 0.006556340027600527 | \n",
      "Epoch = 8 | Batch = 400 | 25600/60000 | Loss = 0.019203651696443558 | \n",
      "Epoch = 8 | Batch = 500 | 32000/60000 | Loss = 0.006271512247622013 | \n",
      "Epoch = 8 | Batch = 600 | 38400/60000 | Loss = 0.002682584337890148 | \n",
      "Epoch = 8 | Batch = 700 | 44800/60000 | Loss = 0.0133036058396101 | \n",
      "Epoch = 8 | Batch = 800 | 51200/60000 | Loss = 0.026788853108882904 | \n",
      "Epoch = 8 | Batch = 900 | 57600/60000 | Loss = 0.004969004075974226 | \n",
      "Aniqlik = 0.9893999695777893 | Foizda 98.93999481201172%\n",
      "Epoch = 9 | Batch = 0 | 0/60000 | Loss = 0.01627368852496147 | \n",
      "Epoch = 9 | Batch = 100 | 6400/60000 | Loss = 0.008623315952718258 | \n",
      "Epoch = 9 | Batch = 200 | 12800/60000 | Loss = 0.023613858968019485 | \n",
      "Epoch = 9 | Batch = 300 | 19200/60000 | Loss = 0.04334927722811699 | \n",
      "Epoch = 9 | Batch = 400 | 25600/60000 | Loss = 0.007299956865608692 | \n",
      "Epoch = 9 | Batch = 500 | 32000/60000 | Loss = 0.011418962851166725 | \n",
      "Epoch = 9 | Batch = 600 | 38400/60000 | Loss = 0.006547106429934502 | \n",
      "Epoch = 9 | Batch = 700 | 44800/60000 | Loss = 0.14415603876113892 | \n",
      "Epoch = 9 | Batch = 800 | 51200/60000 | Loss = 0.0428234227001667 | \n",
      "Epoch = 9 | Batch = 900 | 57600/60000 | Loss = 0.0008655191049911082 | \n",
      "Aniqlik = 0.9902999997138977 | Foizda 99.02999877929688%\n",
      "Epoch = 10 | Batch = 0 | 0/60000 | Loss = 0.011078843846917152 | \n",
      "Epoch = 10 | Batch = 100 | 6400/60000 | Loss = 0.01970786415040493 | \n",
      "Epoch = 10 | Batch = 200 | 12800/60000 | Loss = 0.019798271358013153 | \n",
      "Epoch = 10 | Batch = 300 | 19200/60000 | Loss = 0.10384751856327057 | \n",
      "Epoch = 10 | Batch = 400 | 25600/60000 | Loss = 0.0038227622862905264 | \n",
      "Epoch = 10 | Batch = 500 | 32000/60000 | Loss = 0.03441689535975456 | \n",
      "Epoch = 10 | Batch = 600 | 38400/60000 | Loss = 0.00718145864084363 | \n",
      "Epoch = 10 | Batch = 700 | 44800/60000 | Loss = 0.005093549843877554 | \n",
      "Epoch = 10 | Batch = 800 | 51200/60000 | Loss = 0.01771986484527588 | \n",
      "Epoch = 10 | Batch = 900 | 57600/60000 | Loss = 0.005709832068532705 | \n",
      "Aniqlik = 0.9896999597549438 | Foizda 98.97000122070312%\n"
     ]
    }
   ],
   "source": [
    "train_dataset = datasets.MNIST(root='/mnist_data/',\n",
    "                               train=True,\n",
    "                               transform=transforms.ToTensor(),\n",
    "                               download=True)\n",
    "test_dataset =  datasets.MNIST(root='/mnist_data/',\n",
    "                               train=False,\n",
    "                               transform=transforms.ToTensor())\n",
    "train_data = data.DataLoader(train_dataset,batch_size=64,shuffle=True)\n",
    "test_data = data.DataLoader(test_dataset,batch_size=64,shuffle=False)\n",
    "device = 'cuda'\n",
    "class Madel(nn.Module):\n",
    "  def __init__(self) -> None:\n",
    "    super(Madel,self).__init__()\n",
    "    self.conv1 = nn.Conv2d(1,10,5)\n",
    "    self.conv2 = nn.Conv2d(10,20,5)\n",
    "    self.pool = nn.MaxPool2d(2)\n",
    "    self.fc = nn.Linear(20*4*4,10)\n",
    "  def forward(self,x):\n",
    "    x = F.relu(self.pool(self.conv1(x)))\n",
    "    x = F.relu(self.pool(self.conv2(x)))\n",
    "    x = x.view(-1,320)\n",
    "    x = self.fc(x)\n",
    "    return  F.log_softmax(x)\n",
    "\n",
    "model = Madel()\n",
    "model.to(device)\n",
    "\n",
    "creterian = nn.CrossEntropyLoss()\n",
    "optimizer = optim.Adam(model.parameters())\n",
    "\n",
    "def train(epoch):\n",
    "  for b_i,data1 in enumerate(train_data):\n",
    "    data1,label = data1[0].to(device),data1[1].to(device)\n",
    "    optimizer.zero_grad()\n",
    "    bash = model.forward(data1)\n",
    "    loss = creterian(bash,label)\n",
    "    loss.backward()\n",
    "    optimizer.step()\n",
    "\n",
    "    if b_i%100 == 0:\n",
    "      print(f\"Epoch = {epoch} | Batch = {b_i} | {b_i*len(data1)}/{len(train_data.dataset)} | Loss = {loss.item()} | \")\n",
    "\n",
    "def test():\n",
    "  Xato = 0 ; Togri = 0\n",
    "  for rasm, label in test_data:\n",
    "    rasm,label = rasm.to(device),label.to(device)\n",
    "    bashorat = model(rasm)\n",
    "    Xato += creterian(bashorat,label).item()\n",
    "    natija = bashorat.data.max(1)[1]\n",
    "    Togri +=natija.eq(label.data.view_as(natija)).cuda().sum()\n",
    "  print(f\"Aniqlik = {Togri/len(test_data.dataset)} | Foizda {100.0*Togri/len(test_data.dataset)}%\")\n",
    "for epoch in range(11):\n",
    "  train(epoch)\n",
    "  test()"
   ]
  },
  {
   "cell_type": "code",
   "execution_count": 6,
   "metadata": {},
   "outputs": [
    {
     "name": "stdout",
     "output_type": "stream",
     "text": [
      "tensor(9, device='cuda:0')\n",
      "tensor([[-2.3354e+01, -1.7629e+01, -2.2325e+01, -1.9998e+01, -5.9605e-07,\n",
      "         -2.3281e+01, -1.9199e+01, -1.7846e+01, -1.9426e+01, -1.4406e+01]],\n",
      "       device='cuda:0', grad_fn=<LogSoftmaxBackward0>)\n"
     ]
    },
    {
     "name": "stderr",
     "output_type": "stream",
     "text": [
      "C:\\Users\\Lucas\\AppData\\Local\\Temp\\ipykernel_13664\\1399633187.py:23: UserWarning: Implicit dimension choice for log_softmax has been deprecated. Change the call to include dim=X as an argument.\n",
      "  return  F.log_softmax(x)\n"
     ]
    },
    {
     "data": {
      "image/png": "[encoded data removed]",
      "text/plain": [
       "<Figure size 640x480 with 1 Axes>"
      ]
     },
     "metadata": {},
     "output_type": "display_data"
    }
   ],
   "source": [
    "print(model(test_dataset[501][0].cuda()).argmax())\n",
    "print(model(test_dataset[555][0].cuda()))\n",
    "plt.imshow(np.squeeze(test_dataset[5015][0]),cmap='gray')\n",
    "plt.show()"
   ]
  },
  {
   "cell_type": "code",
   "execution_count": 11,
   "metadata": {},
   "outputs": [
    {
     "name": "stdout",
     "output_type": "stream",
     "text": [
      "tensor(7, device='cuda:0')\n"
     ]
    },
    {
     "name": "stderr",
     "output_type": "stream",
     "text": [
      "C:\\Users\\Lucas\\AppData\\Local\\Temp\\ipykernel_13664\\1399633187.py:23: UserWarning: Implicit dimension choice for log_softmax has been deprecated. Change the call to include dim=X as an argument.\n",
      "  return  F.log_softmax(x)\n"
     ]
    },
    {
     "data": {
      "text/plain": [
       "<matplotlib.image.AxesImage at 0x2aac19422d0>"
      ]
     },
     "execution_count": 11,
     "metadata": {},
     "output_type": "execute_result"
    },
    {
     "data": {
      "image/png": "[encoded data removed]",
      "text/plain": [
       "<Figure size 640x480 with 1 Axes>"
      ]
     },
     "metadata": {},
     "output_type": "display_data"
    }
   ],
   "source": [
    "print(model(test_dataset[0][0].cuda()).argmax())\n",
    "model(test_dataset[0][0].cuda())\n",
    "plt.imshow(np.squeeze(test_dataset[0][0]),cmap='gray')"
   ]
  }
 ],
 "metadata": {
  "kernelspec": {
   "display_name": "Python 3",
   "language": "python",
   "name": "python3"
  },
  "language_info": {
   "codemirror_mode": {
    "name": "ipython",
    "version": 3
   },
   "file_extension": ".py",
   "mimetype": "text/x-python",
   "name": "python",
   "nbconvert_exporter": "python",
   "pygments_lexer": "ipython3",
   "version": "3.11.4"
  },
  "orig_nbformat": 4
 },
 "nbformat": 4,
 "nbformat_minor": 2
}
