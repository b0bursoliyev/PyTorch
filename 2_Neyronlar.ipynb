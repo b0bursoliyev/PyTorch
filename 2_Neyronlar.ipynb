{
 "cells": [
  {
   "cell_type": "code",
   "execution_count": 2,
   "metadata": {},
   "outputs": [
    {
     "data": {
      "image/png": "[encoded data removed]",
      "text/plain": [
       "<Figure size 640x480 with 1 Axes>"
      ]
     },
     "metadata": {},
     "output_type": "display_data"
    }
   ],
   "source": [
    "import numpy as np\n",
    "import cv2\n",
    "import matplotlib.pyplot as plt\n",
    "\n",
    "y_joyi = np.array([3.0,6.0,9.0,12.0])\n",
    "x_ochko = np.array([1.0,2.0,3.0,4.0])\n",
    "\n",
    "plt.plot(y_joyi,x_ochko)\n",
    "plt.show()"
   ]
  },
  {
   "attachments": {},
   "cell_type": "markdown",
   "metadata": {},
   "source": [
    "#w = w - lr * dl/dw"
   ]
  },
  {
   "cell_type": "code",
   "execution_count": 3,
   "metadata": {},
   "outputs": [
    {
     "name": "stdout",
     "output_type": "stream",
     "text": [
      "Epoch: 0 : w = 2.72,  xatolik = 1.27\n",
      "Epoch: 1 : w = 2.92,  xatolik = 0.1\n",
      "Epoch: 2 : w = 2.98,  xatolik = 0.01\n",
      "Epoch: 3 : w = 2.99,  xatolik = 0.0\n",
      "Epoch: 4 : w = 3.0,  xatolik = 0.0\n",
      "Epoch: 5 : w = 3.0,  xatolik = 0.0\n",
      "Epoch: 6 : w = 3.0,  xatolik = 0.0\n",
      "Epoch: 7 : w = 3.0,  xatolik = 0.0\n",
      "Epoch: 8 : w = 3.0,  xatolik = 0.0\n",
      "Epoch: 9 : w = 3.0,  xatolik = 0.0\n",
      "3.0\n"
     ]
    }
   ],
   "source": [
    "w = 2\n",
    "def forward(x):\n",
    "    return w*x\n",
    "def loss(a,b):\n",
    "    k = forward(a)\n",
    "    return (k - b)**2\n",
    "lr = 0.1\n",
    "for epoch in range(10):\n",
    "    for i,j in zip(x_ochko,y_joyi):\n",
    "        w = w - lr*2*i*(i*w - j)\n",
    "        xato = loss(i,j)\n",
    "    print(f\"Epoch: {round(epoch,2)} : w = {round(w,2)},  xatolik = {round(xato,2)}\")\n",
    "print(round(w,2))\n"
   ]
  },
  {
   "cell_type": "code",
   "execution_count": 5,
   "metadata": {},
   "outputs": [
    {
     "name": "stdout",
     "output_type": "stream",
     "text": [
      "1.0 1.0 -8.0\n",
      "2.0 2.0 -31.685\n",
      "3.0 3.0 -52.741\n",
      "4.0 4.0 86.549\n",
      "Epoch = 0 : w = 1.0587680339813232 : Xatolik = 7.9\n",
      "1.0 1.0 -7.958\n",
      "2.0 2.0 -31.039\n",
      "3.0 3.0 -47.0\n",
      "4.0 4.0 83.692\n",
      "Epoch = 1 : w = 1.0818109512329102 : Xatolik = 7.43\n",
      "1.0 1.0 -7.917\n",
      "2.0 2.0 -30.689\n",
      "3.0 3.0 -44.67\n",
      "4.0 4.0 81.562\n",
      "Epoch = 2 : w = 1.0989669561386108 : Xatolik = 7.09\n",
      "1.0 1.0 -7.879\n",
      "2.0 2.0 -30.394\n",
      "3.0 3.0 -42.918\n",
      "4.0 4.0 79.665\n",
      "Epoch = 3 : w = 1.1142137050628662 : Xatolik = 6.79\n",
      "1.0 1.0 -7.838\n",
      "2.0 2.0 -30.105\n",
      "3.0 3.0 -41.352\n",
      "4.0 4.0 77.783\n",
      "Epoch = 4 : w = 1.129333257675171 : Xatolik = 6.5\n",
      "1.0 1.0 -7.791\n",
      "2.0 2.0 -29.796\n",
      "3.0 3.0 -39.794\n",
      "4.0 4.0 75.751\n",
      "Epoch = 5 : w = 1.1456248760223389 : Xatolik = 6.19\n",
      "1.0 1.0 -7.733\n",
      "2.0 2.0 -29.437\n",
      "3.0 3.0 -38.113\n",
      "4.0 4.0 73.4\n",
      "Epoch = 6 : w = 1.1644529104232788 : Xatolik = 5.84\n",
      "1.0 1.0 -7.658\n",
      "2.0 2.0 -28.987\n",
      "3.0 3.0 -36.172\n",
      "4.0 4.0 70.501\n",
      "Epoch = 7 : w = 1.1876201629638672 : Xatolik = 5.42\n",
      "1.0 1.0 -7.551\n",
      "2.0 2.0 -28.385\n",
      "3.0 3.0 -33.796\n",
      "4.0 4.0 66.713\n",
      "Epoch = 8 : w = 1.217812180519104 : Xatolik = 4.89\n",
      "1.0 1.0 -7.389\n",
      "2.0 2.0 -27.518\n",
      "3.0 3.0 -30.734\n",
      "4.0 4.0 61.504\n",
      "Epoch = 9 : w = 1.259187936782837 : Xatolik = 4.21\n"
     ]
    }
   ],
   "source": [
    "import torch\n",
    "\n",
    "y_joyi = np.array([3.0,6.0,9.0,12.0])\n",
    "x_ochko = np.array([1.0,2.0,3.0,4.0])\n",
    "\n",
    "w = torch.tensor([1.0],requires_grad=True)\n",
    "\n",
    "def forward(x):\n",
    "    return w*x\n",
    "def loss(a,b):\n",
    "    k = forward(a)\n",
    "    return (k - b)**2\n",
    "\n",
    "lr = 0.01\n",
    "for epoch in range(10):\n",
    "    for i,j in zip(x_ochko,y_joyi):\n",
    "        y_bash = forward(i)\n",
    "        xato = loss(y_bash,j)\n",
    "        xato.backward()\n",
    "        w.data = w.data - lr*w.grad.item()\n",
    "        print(i,i,round(w.grad.item(),3))\n",
    "        w.grad.data.zero_()\n",
    "    print(f\"Epoch = {epoch} : w = {w.item()} : Xatolik = {round(xato.item(),2)}\")\n"
   ]
  }
 ],
 "metadata": {
  "kernelspec": {
   "display_name": "Python 3",
   "language": "python",
   "name": "python3"
  },
  "language_info": {
   "codemirror_mode": {
    "name": "ipython",
    "version": 3
   },
   "file_extension": ".py",
   "mimetype": "text/x-python",
   "name": "python",
   "nbconvert_exporter": "python",
   "pygments_lexer": "ipython3",
   "version": "3.11.4"
  },
  "orig_nbformat": 4
 },
 "nbformat": 4,
 "nbformat_minor": 2
}
